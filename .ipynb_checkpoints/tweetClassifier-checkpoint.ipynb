{
 "cells": [
  {
   "cell_type": "markdown",
   "metadata": {},
   "source": [
    "## Implementing the network"
   ]
  },
  {
   "cell_type": "code",
   "execution_count": 2,
   "metadata": {},
   "outputs": [],
   "source": [
    "%matplotlib inline\n",
    "%config InlineBackend.figure_format = 'retina'\n",
    "\n",
    "import numpy as np\n",
    "import torch\n",
    "import matplotlib.pyplot as plt\n",
    "from torchvision import datasets, transforms\n",
    "from torch import nn\n",
    "from torch import optim\n",
    "import torch.nn.functional as F\n"
   ]
  },
  {
   "cell_type": "markdown",
   "metadata": {},
   "source": [
    "### Define genaric model"
   ]
  },
  {
   "cell_type": "code",
   "execution_count": 3,
   "metadata": {},
   "outputs": [],
   "source": [
    "class Network(nn.Module):\n",
    "    def __init__(self, input_size, LSTM_hidden_size, LTSM_num_layers, hidden_layers,\n",
    "                 LSTM_dropout, batch_first=True, output_size=1, drop_p=0.5):\n",
    "        \n",
    "        super().__init__()\n",
    "        self.lstm = nn.LSTM(input_size = input_size,\n",
    "                            hidden_size = LSTM_hidden_size,\n",
    "                            num_layers = LTSM_num_layers,\n",
    "                            batch_first = batch_first,\n",
    "                            dropout = LSTM_dropout,\n",
    "                            bidirectional=True)\n",
    "        \n",
    "        \n",
    "        # Add the first layer, input to a hidden layer\n",
    "        self.hidden_layers = nn.ModuleList([nn.Linear(LSTM_hidden_size, hidden_layers[0])])\n",
    "        \n",
    "        # Add a variable number of more hidden layers\n",
    "        layer_sizes = zip(hidden_layers[:-1], hidden_layers[1:])\n",
    "        self.hidden_layers.extend([nn.Linear(h1, h2) for h1, h2 in layer_sizes])\n",
    "        \n",
    "        self.output = nn.Linear(hidden_layers[-1], output_size)\n",
    "        \n",
    "        self.dropout = nn.Dropout(p=drop_p)\n",
    "        \n",
    "    def forward(self, x):\n",
    "        ''' Forward pass through the network, returns the output logits '''\n",
    "        # \n",
    "        x = F.tanh(self.lstm(x))\n",
    "\n",
    "        # Forward through each layer in `hidden_layers`, with ReLU activation and dropout\n",
    "        for linear in self.hidden_layers:\n",
    "            x = F.relu(linear(x))\n",
    "            x = self.dropout(x)\n",
    "        \n",
    "        x = self.output(x)\n",
    "        \n",
    "        return F.log_softmax(x, dim=1)\n",
    "    "
   ]
  },
  {
   "cell_type": "markdown",
   "metadata": {},
   "source": [
    "### Try different model"
   ]
  },
  {
   "cell_type": "code",
   "execution_count": 6,
   "metadata": {
    "scrolled": true
   },
   "outputs": [
    {
     "name": "stderr",
     "output_type": "stream",
     "text": [
      "/home/mohannad/anaconda3/lib/python3.7/site-packages/torch/nn/modules/rnn.py:50: UserWarning: dropout option adds dropout after all but last recurrent layer, so non-zero dropout expects num_layers greater than 1, but got dropout=0.1 and num_layers=1\n",
      "  \"num_layers={}\".format(dropout, num_layers))\n"
     ]
    },
    {
     "name": "stdout",
     "output_type": "stream",
     "text": [
      "Trainable parameters for model_1 is  2741575\n",
      "Trainable parameters for model_2 is  1164615\n",
      "Trainable parameters for model_3 is  1131365\n",
      "Trainable parameters for model_4 is  302851\n",
      "Trainable parameters for model_5 is  544451\n",
      "Trainable parameters for model_6 is  1722451\n",
      "Trainable parameters for model_7 is  1722451\n",
      "Trainable parameters for model_8 is  4238643\n",
      "Trainable parameters for model_9 is  5815603\n",
      "Trainable parameters for model_10 is  7392563\n"
     ]
    }
   ],
   "source": [
    "'''\n",
    "input_size, LSTM_hidden_size, LTSM_num_layers, hidden_layers,\n",
    "LSTM_dropout, batch_first=True, output_size=1, drop_p=0.5)\n",
    "'''\n",
    "model_1 = Network(256, 256, 2, [256,150,50],\n",
    "               0.1, True, 1, 0.2)\n",
    "\n",
    "model_2 = Network(256, 256, 1, [256,150,50],\n",
    "               0.1, True, 1, 0.2)\n",
    "\n",
    "model_3 = Network(256, 256, 1, [256,50],\n",
    "               0.1, True, 1, 0.2)\n",
    "\n",
    "model_4 = Network(256, 100, 1, [100,50,25],\n",
    "               0.1, True, 1, 0.2)\n",
    "\n",
    "model_5 = Network(256, 100, 2, [100,50,25],\n",
    "               0.1, True, 1, 0.2)\n",
    "\n",
    "model_6 = Network(256, 200, 2, [100,50,25],\n",
    "               0.1, True, 1, 0.2)\n",
    "\n",
    "model_7 = Network(256, 200, 2, [100,50,25],\n",
    "               0.9, True, 1, 0.9)\n",
    "\n",
    "model_8 = Network(256, 256, 3, [100,50,25],\n",
    "               0.9, True, 1, 0.9)\n",
    "\n",
    "model_9 = Network(256, 256, 4, [100,50,25],\n",
    "               0.9, True, 1, 0.9)\n",
    "\n",
    "model_10 = Network(256, 256, 5, [100,50,25],\n",
    "               0.9, True, 1, 0.9)\n",
    "\n",
    "print(\"Trainable parameters for model_1 is \", sum(p.numel() for p in model_1.parameters() if p.requires_grad))\n",
    "print(\"Trainable parameters for model_2 is \", sum(p.numel() for p in model_2.parameters() if p.requires_grad))\n",
    "print(\"Trainable parameters for model_3 is \", sum(p.numel() for p in model_3.parameters() if p.requires_grad))\n",
    "print(\"Trainable parameters for model_4 is \", sum(p.numel() for p in model_4.parameters() if p.requires_grad))\n",
    "print(\"Trainable parameters for model_5 is \", sum(p.numel() for p in model_5.parameters() if p.requires_grad))\n",
    "print(\"Trainable parameters for model_6 is \", sum(p.numel() for p in model_6.parameters() if p.requires_grad))\n",
    "print(\"Trainable parameters for model_7 is \", sum(p.numel() for p in model_7.parameters() if p.requires_grad))\n",
    "print(\"Trainable parameters for model_8 is \", sum(p.numel() for p in model_8.parameters() if p.requires_grad))\n",
    "print(\"Trainable parameters for model_9 is \", sum(p.numel() for p in model_9.parameters() if p.requires_grad))\n",
    "print(\"Trainable parameters for model_10 is \", sum(p.numel() for p in model_10.parameters() if p.requires_grad))"
   ]
  },
  {
   "cell_type": "markdown",
   "metadata": {},
   "source": [
    "### Hyperparameter"
   ]
  },
  {
   "cell_type": "code",
   "execution_count": 7,
   "metadata": {},
   "outputs": [],
   "source": [
    "learning_rate=0.1\n",
    "input_size= 256\n",
    "LSTM_hidden_size= 256\n",
    "LTSM_num_layers= 2\n",
    "hidden_layers= [256,150,50]\n",
    "LSTM_dropout= 0.1\n",
    "batch_first=True\n",
    "output_size=1\n",
    "drop_p=0.5"
   ]
  },
  {
   "cell_type": "markdown",
   "metadata": {},
   "source": [
    "### Instantiate Model"
   ]
  },
  {
   "cell_type": "code",
   "execution_count": 8,
   "metadata": {},
   "outputs": [],
   "source": [
    "model = Network(input_size, LSTM_hidden_size, LTSM_num_layers, hidden_layers, LSTM_dropout,\n",
    "                batch_first, output_size, drop_p)"
   ]
  },
  {
   "cell_type": "markdown",
   "metadata": {},
   "source": [
    "### Load data"
   ]
  },
  {
   "cell_type": "code",
   "execution_count": null,
   "metadata": {},
   "outputs": [],
   "source": []
  },
  {
   "cell_type": "markdown",
   "metadata": {},
   "source": [
    "### Try forward "
   ]
  },
  {
   "cell_type": "code",
   "execution_count": null,
   "metadata": {},
   "outputs": [],
   "source": []
  },
  {
   "cell_type": "markdown",
   "metadata": {},
   "source": [
    "### Optimizer and criterion"
   ]
  },
  {
   "cell_type": "code",
   "execution_count": null,
   "metadata": {},
   "outputs": [],
   "source": [
    "criterion = nn.CrossEntropyLoss()\n",
    "optimizer = optim.Adam(model.parameters(), lr=learning_rate)"
   ]
  },
  {
   "cell_type": "markdown",
   "metadata": {},
   "source": [
    "### Train function "
   ]
  },
  {
   "cell_type": "code",
   "execution_count": null,
   "metadata": {},
   "outputs": [],
   "source": [
    "def train(model, trainloader, testloader, criterion, optimizer, epochs=5, print_every=40):\n",
    "    \n",
    "    steps = 0\n",
    "    running_loss = 0\n",
    "    for e in range(epochs):\n",
    "        # Model in training mode, dropout is on\n",
    "        model.train()\n",
    "        for tweet, result in trainloader:\n",
    "            steps += 1\n",
    "            \n",
    "    \n",
    "            optimizer.zero_grad()\n",
    "            \n",
    "            output = model.forward(tweet)\n",
    "            loss = criterion(output, results)\n",
    "            loss.backward()\n",
    "            optimizer.step()\n",
    "            \n",
    "            running_loss += loss.item()\n",
    "\n",
    "            if steps % print_every == 0:\n",
    "                # Model in inference mode, dropout is off\n",
    "                model.eval()\n",
    "                \n",
    "                # Turn off gradients for validation, will speed up inference\n",
    "                with torch.no_grad():\n",
    "                    test_loss, accuracy = validation(model, testloader, criterion)\n",
    "                \n",
    "                print(\"Epoch: {}/{}.. \".format(e+1, epochs),\n",
    "                      \"Training Loss: {:.3f}.. \".format(running_loss/print_every),\n",
    "                      \"Test Loss: {:.3f}.. \".format(test_loss/len(testloader)),\n",
    "                      \"Test Accuracy: {:.3f}\".format(accuracy/len(testloader)))\n",
    "                \n",
    "                running_loss = 0\n",
    "                \n",
    "                # Make sure dropout and grads are on for training\n",
    "                model.train()"
   ]
  },
  {
   "cell_type": "markdown",
   "metadata": {},
   "source": [
    "### save model"
   ]
  },
  {
   "cell_type": "code",
   "execution_count": null,
   "metadata": {},
   "outputs": [],
   "source": [
    "torch.save(model.state_dict(), 'checkpoint.pth')"
   ]
  }
 ],
 "metadata": {
  "kernelspec": {
   "display_name": "Python 3",
   "language": "python",
   "name": "python3"
  },
  "language_info": {
   "codemirror_mode": {
    "name": "ipython",
    "version": 3
   },
   "file_extension": ".py",
   "mimetype": "text/x-python",
   "name": "python",
   "nbconvert_exporter": "python",
   "pygments_lexer": "ipython3",
   "version": "3.7.4"
  }
 },
 "nbformat": 4,
 "nbformat_minor": 4
}
